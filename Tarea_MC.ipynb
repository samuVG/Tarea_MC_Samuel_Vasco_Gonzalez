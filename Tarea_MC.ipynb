{
 "cells": [
  {
   "cell_type": "code",
   "execution_count": 5,
   "metadata": {},
   "outputs": [],
   "source": [
    "from scipy import random\n",
    "from math import sqrt, pi\n",
    "from scipy.integrate import quad\n",
    "import numpy as np"
   ]
  },
  {
   "cell_type": "markdown",
   "metadata": {},
   "source": [
    "# Función densidad de probabilidad\n",
    "\n",
    "Usaremos la distribución uniforme, esta distribución describe resultados de experimentos aleatorios donde los todos los valores medidos de una variable aleatoria entre el menor valor $a$  y el mayor valor $b$ son igualmente probables. \n",
    "\n",
    "**Función densidad de probabilidad:** $f(x) = \\dfrac{1}{b-a}$, $a\\leq x \\leq b$\n",
    "\n",
    "$f(x)=0$ en otro lugar\n",
    "\n",
    "**Media:** $\\dfrac{a+b}{2}$\n",
    "\n",
    "**Varianza:** $\\dfrac{(b-a)^2}{12}$\n",
    "\n",
    "**Desviación estándar:** $\\dfrac{b-a}{\\sqrt{12}}$\n",
    "\n",
    "# Método de Montecarlo\n",
    "\n",
    "La integral y su error por el método MC es:\n",
    "\n",
    "$Integral=\\dfrac{1}{N}\\displaystyle\\sum_{n=1}^{N}\\dfrac{f(x_n)}{p(x_n)}$ \n",
    "\n",
    "$Error= \\dfrac{\\sigma}{\\sqrt{N}}$ \n",
    "\n",
    "El error es definido por el error estándar, la raíz cuadrada positiva de la varianza de cualquier estadística.\n",
    "\n",
    "Donde $f(x)$ es la función que se desea integrar, $p(x)$ es la fdp uniforme, $\\sigma$ es la desviación estandar de la distribución uniforme y $N$ es el número de puntos que usaremos para determinar el valor de la integral, tenemos entonces:\n",
    "\n",
    "\n",
    "$Integral=\\dfrac{(b-a)}{N}\\displaystyle\\sum_{n=1}^{N}f(x_n)$\n",
    "\n",
    "$Error= \\dfrac{b-a}{\\sqrt{12 N}}$\n"
   ]
  },
  {
   "cell_type": "markdown",
   "metadata": {},
   "source": [
    "# 1 $\\displaystyle\\int_{0}^{10} (x^2 - 4)dx$"
   ]
  },
  {
   "cell_type": "code",
   "execution_count": 12,
   "metadata": {},
   "outputs": [
    {
     "name": "stdout",
     "output_type": "stream",
     "text": [
      "El valor de la integral definida por el MC es:   293.387132 +- 0.002357\n",
      "El valor teórico de la integral definida es:     293.333333\n"
     ]
    }
   ],
   "source": [
    "N=1500000 # número de puntos \n",
    "    \n",
    "a=0 #intervalo de integración\n",
    "b=10\n",
    "    \n",
    "#Definimos la función a integrar \n",
    "def f(x):\n",
    "    return (x**2 -4)\n",
    "    \n",
    "#La función densidad de probabilidad uniforme\n",
    "def p(a,b):\n",
    "    return 1/(b-a)    \n",
    "\n",
    "#Creamos el contador\n",
    "Sum=0\n",
    "for i in range(N):\n",
    "    point = random.uniform(a,b)\n",
    "    Sum += f(point)\n",
    "\n",
    "Integral=Sum/(p(a,b)*N) # Valor de la integral por MC\n",
    "\n",
    "#Estimemos el error (Error estándar)\n",
    "Error = (b-a)/sqrt(12*N)\n",
    "\n",
    "Integralteorica = quad(f, 0, 10) # Valor teórico de la integral\n",
    "\n",
    "\n",
    "print(f\"El valor de la integral definida por el MC es:   {Integral:4f} +- {Error:4f}\")\n",
    "print(f\"El valor teórico de la integral definida es:     {Integralteorica[0]:4f}\") "
   ]
  },
  {
   "cell_type": "markdown",
   "metadata": {},
   "source": [
    "# 2 $\\displaystyle\\int_{0.5}^{1.7} sin^2(x)dx$"
   ]
  },
  {
   "cell_type": "code",
   "execution_count": 13,
   "metadata": {},
   "outputs": [
    {
     "name": "stdout",
     "output_type": "stream",
     "text": [
      "El valor de la integral definida por el MC es:   0.874170 +- 0.000283\n",
      "El valor teórico de la integral definida es:     0.874253\n"
     ]
    }
   ],
   "source": [
    "N=1500000 # número de puntos \n",
    "    \n",
    "a1 = 0.5\n",
    "b1= 1.7\n",
    "    \n",
    "#Definimos la función a integrar \n",
    "def f1(x):\n",
    "    return np.sin(x)**2\n",
    "    \n",
    "#La función densidad de probabilidad uniforme\n",
    "def p(a,b):\n",
    "    return 1/(b-a)    \n",
    "\n",
    "#Creamos el contador\n",
    "Sum1=0\n",
    "for i in range(N):\n",
    "    point = random.uniform(a1,b1)\n",
    "    Sum1 += f1(point)\n",
    "\n",
    "Integral1=Sum1/(p(a1,b1)*N) # Valor de la integral por MC\n",
    "\n",
    "#Estimemos el error (Error estándar)\n",
    "Error1 = (b1-a1)/sqrt(12*N)\n",
    "\n",
    "Integralteorica1 = quad(f1, a1, b1) # Valor teórico de la integral\n",
    "\n",
    "\n",
    "print(f\"El valor de la integral definida por el MC es:   {Integral1:4f} +- {Error1:4f}\")\n",
    "print(f\"El valor teórico de la integral definida es:     {Integralteorica1[0]:4f}\")"
   ]
  },
  {
   "cell_type": "code",
   "execution_count": null,
   "metadata": {},
   "outputs": [],
   "source": []
  }
 ],
 "metadata": {
  "kernelspec": {
   "display_name": "Python 3",
   "language": "python",
   "name": "python3"
  },
  "language_info": {
   "codemirror_mode": {
    "name": "ipython",
    "version": 3
   },
   "file_extension": ".py",
   "mimetype": "text/x-python",
   "name": "python",
   "nbconvert_exporter": "python",
   "pygments_lexer": "ipython3",
   "version": "3.7.3"
  }
 },
 "nbformat": 4,
 "nbformat_minor": 4
}
